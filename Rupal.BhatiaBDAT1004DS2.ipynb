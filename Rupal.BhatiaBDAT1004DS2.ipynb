{
  "metadata": {
    "language_info": {
      "codemirror_mode": {
        "name": "python",
        "version": 3
      },
      "file_extension": ".py",
      "mimetype": "text/x-python",
      "name": "python",
      "nbconvert_exporter": "python",
      "pygments_lexer": "ipython3",
      "version": "3.8"
    },
    "kernelspec": {
      "name": "python",
      "display_name": "Python (Pyodide)",
      "language": "python"
    }
  },
  "nbformat_minor": 4,
  "nbformat": 4,
  "cells": [
    {
      "cell_type": "code",
      "source": "Question 1:\n\nFirst call:\na is initially 0.\nc(a) evaluates to 0 + 2, which is 2.\nThe global variable a is then updated to 2.\nSecond call:\na is now 2.\nc(a) evaluates to 2 + 2, which is 4.\nThe global variable a is updated to 4.\nThird call:\na is now 4.\nc(a) evaluates to 4 + 2, which is 6.\nThe global variable a is updated to 6.\nAfter the three calls to b(), the value of the global variable a is 6.\n\nSo, when you execute a in the interpreter after these calls, it will display the value 6, which is the final value of the global variable a.\n",
      "metadata": {
        "trusted": true
      },
      "execution_count": null,
      "outputs": []
    },
    {
      "cell_type": "code",
      "source": "Question 2:\n\ndef fileLength(filename):\n    try:\n        infile = open(filename, 'r')\n        content = infile.read()\n        infile.close()\n        length = len(content)\n        print(f'File {filename} contains {length} characters.')\n    except FileNotFoundError:\n        print(f'File {filename} not found.')\n    except IOError:\n        print(f'An error occurred while reading the file {filename}.')",
      "metadata": {},
      "execution_count": null,
      "outputs": []
    },
    {
      "cell_type": "code",
      "source": "Question 3:\n\nclass Marsupial:\n    def __init__(self):\n        self.pouch = []\n\n    def put_in_pouch(self, item):\n        self.pouch.append(item)\n\n    def pouch_contents(self):\n        return self.pouch\n\nclass Kangaroo(Marsupial):\n    def __init__(self, x, y):\n        super().__init__()\n        self.x = x\n        self.y = y\n\n    def jump(self, dx, dy):\n        self.x += dx\n        self.y += dy\n\n    def __str__(self):\n        return f'I am a Kangaroo located at coordinates ({self.x},{self.y})'\n",
      "metadata": {},
      "execution_count": null,
      "outputs": []
    },
    {
      "cell_type": "code",
      "source": "Question 4:\n\ndef collatz(x):\n    print(x)\n\n    if x == 1:\n        return\n\n    if x % 2 == 0:\n        collatz(x // 2)\n    else:\n       \n        collatz(3 * x + 1)\n",
      "metadata": {},
      "execution_count": null,
      "outputs": []
    },
    {
      "cell_type": "code",
      "source": "Question 5:\n\ndef binary(n):\n    if n > 1:\n        \n        binary(n // 2)\n\n    print(n % 2, end='')\n",
      "metadata": {},
      "execution_count": null,
      "outputs": []
    },
    {
      "cell_type": "code",
      "source": "Question 6:\n\nfrom html.parser import HTMLParser\n\nclass HeadingParser(HTMLParser):\n    def __init__(self):\n        super().__init__()\n        self.headings = []  \n        self.indentation = 0  \n\n    def handle_starttag(self, tag, attrs):\n        if tag in ['h1', 'h2', 'h3', 'h4', 'h5', 'h6']:\n            self.headings.append((self.indentation, tag))\n\n    def handle_data(self, data):\n        if data.strip() and self.headings:\n            for indentation, tag in self.headings:\n                print(' ' * indentation + data.strip())\n            self.headings = []  \n\n    def handle_endtag(self, tag):\n        if tag in ['h1', 'h2', 'h3', 'h4', 'h5', 'h6']:\n            self.indentation -= 1\n\n    def handle_startendtag(self, tag, attrs):\n        if tag in ['h1', 'h2', 'h3', 'h4', 'h5', 'h6']:\n            self.headings.append((self.indentation, tag))\n\n    def handle_starttag(self, tag, attrs):\n        if tag in ['h1', 'h2', 'h3', 'h4', 'h5', 'h6']:\n            self.headings.append((self.indentation, tag))\n            self.indentation += 1\n",
      "metadata": {},
      "execution_count": null,
      "outputs": []
    },
    {
      "cell_type": "code",
      "source": "Question 7:\n\nimport requests\nfrom bs4 import BeautifulSoup\n\ndef webdir(url, depth, indent):\n    if depth < 0:\n        return\n\n    try:\n        response = requests.get(url)\n        response.raise_for_status()\n        soup = BeautifulSoup(response.text, 'html.parser')\n\n        print(' ' * indent + url)\n\n        if depth > 0:\n            links = soup.find_all('a')\n            for link in links:\n                href = link.get('href')\n                if href and href.startswith('http'):\n                    webdir(href, depth - 1, indent + 2)\n    except Exception as e:\n        print(f\"An error occurred: {e}\")\n\n# Example usage:\nwebdir('http://reed.cs.depaul.edu/lperkovic/csc242/test1.html', 2, 0)\n",
      "metadata": {},
      "execution_count": null,
      "outputs": []
    },
    {
      "cell_type": "code",
      "source": "Question 8:\n\na)\nSELECT Temperature(C)\nFROM your_table_name;\n\nb)\nSELECT DISTINCT City\nFROM your_table_name;\n\nc)\nSELECT *\nFROM your_table_name\nWHERE Country = 'India';\n\nd)\nSELECT *\nFROM your_table_name\nWHERE Season = 'Fall';\n\ne)\nSELECT City, Country, Season\nFROM your_table_name\nGROUP BY City, Country, Season\nHAVING AVG(Rainfall(mm)) BETWEEN 200 AND 400;\n\nf)\nSELECT City, Country\nFROM your_table_name\nWHERE Season = 'Fall'\nGROUP BY City, Country\nHAVING AVG(Temperature(C)) > 20\nORDER BY AVG(Temperature(C)) ASC;\n\ng)\nSELECT SUM(Rainfall(mm))\nFROM your_table_name\nWHERE City = 'Cairo';\n\nh) \nSELECT Season, SUM(Rainfall(mm))\nFROM your_table_name\nGROUP BY Season;\n\n    ",
      "metadata": {},
      "execution_count": null,
      "outputs": []
    },
    {
      "cell_type": "code",
      "source": "Question 9:\n    \n    a) \n    uppercase_words = [word.upper() for word in words]\n    b)\n    lowercase_words = [word.lower() for word in words]\n    c)\n    word_lengths = [len(word) for word in words]\n    d)\n    word_info = [[word.upper(), word.lower(), len(word)] for word in words]\n    e)\n    long_words = [word for word in words if len(word) >= 4]\n",
      "metadata": {},
      "execution_count": null,
      "outputs": []
    }
  ]
}